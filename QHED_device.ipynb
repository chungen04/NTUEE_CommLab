{
 "cells": [
  {
   "cell_type": "code",
   "execution_count": 1,
   "metadata": {},
   "outputs": [],
   "source": [
    "# Importing standard Qiskit libraries and configuring account\n",
    "from qiskit import *\n",
    "from qiskit import IBMQ\n",
    "from qiskit.compiler import transpile, assemble\n",
    "from qiskit.tools.jupyter import *\n",
    "from qiskit.visualization import *\n",
    "\n",
    "import numpy as np\n",
    "import os\n",
    "import matplotlib.pyplot as plt\n",
    "from matplotlib import style\n",
    "style.use('bmh')\n",
    "\n",
    "from PIL import Image\n",
    "import math"
   ]
  },
  {
   "cell_type": "code",
   "execution_count": 2,
   "metadata": {},
   "outputs": [
    {
     "name": "stdout",
     "output_type": "stream",
     "text": [
      "Total Qubits: 5\n"
     ]
    }
   ],
   "source": [
    "crop_size = 4\n",
    "img_dir = \"imgs/elephant.png\"\n",
    "\n",
    "data_qb = int(math.log2(crop_size**2))\n",
    "anc_qb = 1\n",
    "total_qb = data_qb + anc_qb\n",
    "print(f\"Total Qubits: {total_qb}\")\n",
    "\n",
    "os.makedirs(\"result_image_device\", exist_ok=True)"
   ]
  },
  {
   "cell_type": "markdown",
   "metadata": {},
   "source": [
    "Crop the image"
   ]
  },
  {
   "cell_type": "code",
   "execution_count": 3,
   "metadata": {},
   "outputs": [],
   "source": [
    "\n",
    "\n",
    "# Function for plotting the image using matplotlib\n",
    "def plot_image(img, i, title: str):\n",
    "    plt.title(title)\n",
    "    plt.xticks(range(img.shape[0]))\n",
    "    plt.yticks(range(img.shape[1]))\n",
    "    \n",
    "    plt.imshow(img, extent=[0, img.shape[0], img.shape[1], 0], cmap='binary')\n",
    "    plt.savefig(f\"result_image_device/{title}_{i}.jpg\")\n",
    "    plt.close()\n",
    "    # plt.show()\n",
    "    \n",
    "    np.save(f\"result_image_device/{title}_{i}.npy\", img)\n",
    "    \n",
    "# plot_image(image, 'Original Image')\n"
   ]
  },
  {
   "cell_type": "code",
   "execution_count": 4,
   "metadata": {},
   "outputs": [
    {
     "data": {
      "image/png": "[encoded data removed]",
      "text/plain": [
       "<Figure size 640x480 with 1 Axes>"
      ]
     },
     "metadata": {},
     "output_type": "display_data"
    },
    {
     "name": "stdout",
     "output_type": "stream",
     "text": [
      "Original Image Shape: (4, 4)\n",
      "Cropped Image Shape: (1, 4, 4)\n"
     ]
    }
   ],
   "source": [
    "# image = np.array(Image.open(img_dir).convert('L'))\n",
    "# image = image[136:152, 79:95]\n",
    "image = np.array([[0, 0, 0, 0],\n",
    "                  [0, 255, 255, 0],\n",
    "                  [0, 255, 255, 0],\n",
    "                  [0, 0, 0, 0]])\n",
    "plt.imshow(image, cmap='binary')\n",
    "plt.show()\n",
    "print(f\"Original Image Shape: {image.shape}\")\n",
    "\n",
    "original_img = [image.shape[0], image.shape[1]]\n",
    "times = int(image.shape[0]/crop_size)\n",
    "crop_image = np.zeros((times**2, crop_size, crop_size))\n",
    "for i in range(times):\n",
    "    for j in range(times):\n",
    "        crop_image[i*times+j] = image[i*crop_size:(i+1)*crop_size, j*crop_size:(j+1)*crop_size]\n",
    "image = crop_image\n",
    "\n",
    "print(f\"Cropped Image Shape: {image.shape}\")\n"
   ]
  },
  {
   "cell_type": "code",
   "execution_count": 5,
   "metadata": {},
   "outputs": [],
   "source": [
    "# Convert the raw pixel values to probability amplitudes\n",
    "def amplitude_encode(img_data):\n",
    "    \n",
    "    # Calculate the RMS value\n",
    "    rms = np.sqrt((np.sum(np.square(img_data, dtype='float64'), axis=None)))\n",
    "    \n",
    "    # Create normalized image\n",
    "    image_norm = []\n",
    "    for arr in img_data:\n",
    "        for ele in arr:\n",
    "            image_norm.append(ele / rms)\n",
    "    # Return the normalized image as a numpy array\n",
    "    return np.array(image_norm)\n",
    "\n",
    "# Get the amplitude ancoded pixel values\n",
    "# Horizontal: Original image\n",
    "image_norm_h = np.asarray([amplitude_encode(image[i]) for i in range(image.shape[0])])\n",
    "\n",
    "# Vertical: Transpose of Original image\n",
    "image_norm_v = np.asarray([amplitude_encode(image[i].T) for i in range(image.shape[0])])"
   ]
  },
  {
   "cell_type": "code",
   "execution_count": 6,
   "metadata": {},
   "outputs": [],
   "source": [
    "# Initialize the amplitude permutation unitary\n",
    "D2n_1 = np.roll(np.identity(2**total_qb), 1, axis=1)"
   ]
  },
  {
   "cell_type": "code",
   "execution_count": 7,
   "metadata": {},
   "outputs": [],
   "source": [
    "def generateCircuit(image_norm_h, image_norm_v):\n",
    "\n",
    "    # Create the circuit for horizontal scan\n",
    "    qc_h = QuantumCircuit(total_qb)\n",
    "    qc_h.initialize(image_norm_h, range(1, total_qb))\n",
    "    qc_h.h(0)\n",
    "    qc_h.unitary(D2n_1, range(total_qb))\n",
    "    qc_h.h(0)\n",
    "    qc_h.measure_all()\n",
    "    # display(qc_h.draw('mpl', fold=-1))\n",
    "\n",
    "    # Create the circuit for vertical scan\n",
    "    qc_v = QuantumCircuit(total_qb)\n",
    "    qc_v.initialize(image_norm_v, range(1, total_qb))\n",
    "    qc_v.h(0)\n",
    "    qc_v.unitary(D2n_1, range(total_qb))\n",
    "    qc_v.h(0)\n",
    "    qc_v.measure_all()\n",
    "    # display(qc_v.draw('mpl', fold=-1))\n",
    "\n",
    "    # Combine both circuits into a single list\n",
    "    circ_list = [qc_h, qc_v]\n",
    "    \n",
    "    return qc_h, qc_v, circ_list"
   ]
  },
  {
   "cell_type": "code",
   "execution_count": 8,
   "metadata": {},
   "outputs": [],
   "source": [
    "def QuantumSimulate(qc_h, qc_v, circ_list):\n",
    "    # Simulating the cirucits\n",
    "    back = Aer.get_backend('statevector_simulator')\n",
    "    results = execute(circ_list, backend=back).result()\n",
    "    sv_h = results.get_statevector(qc_h)\n",
    "    sv_v = results.get_statevector(qc_v)\n",
    "\n",
    "    from qiskit.visualization import array_to_latex\n",
    "    print('Horizontal scan statevector:')\n",
    "    # display(array_to_latex(sv_h[:30], max_size=30))\n",
    "    print()\n",
    "    print('Vertical scan statevector:')\n",
    "    # display(array_to_latex(sv_v[:30], max_size=30))\n",
    "    \n",
    "    return sv_h, sv_v"
   ]
  },
  {
   "cell_type": "code",
   "execution_count": 9,
   "metadata": {},
   "outputs": [],
   "source": [
    "def scanEdge(sv_h, sv_v):\n",
    "    edge_scan_h = np.array([sv_h[f'{2*i+1:0{total_qb}b}'].real for i in range(2**data_qb)]).reshape(crop_size, crop_size)\n",
    "    edge_scan_v = np.array([sv_v[f'{2*i+1:0{total_qb}b}'].real for i in range(2**data_qb)]).reshape(crop_size, crop_size).T\n",
    "\n",
    "    return edge_scan_h, edge_scan_v"
   ]
  },
  {
   "cell_type": "code",
   "execution_count": 10,
   "metadata": {},
   "outputs": [],
   "source": [
    "Total_scan_h = []\n",
    "Total_scan_v = []\n",
    "circ_list_all = []\n",
    "for i in range(image_norm_h.shape[0]):\n",
    "    # print(f\"Idx: {i}\")\n",
    "    qc_h, qc_v, circ_list = generateCircuit(image_norm_h[i], image_norm_v[i])\n",
    "    circ_list_all.append(circ_list)\n",
    "    "
   ]
  },
  {
   "cell_type": "code",
   "execution_count": 11,
   "metadata": {},
   "outputs": [
    {
     "name": "stderr",
     "output_type": "stream",
     "text": [
      "/tmp/ipykernel_1783/3136128719.py:4: DeprecationWarning: The qiskit.IBMQ entrypoint and the qiskit-ibmq-provider package (accessible from 'qiskit.providers.ibmq`) are deprecated and will be removed in a future release. Instead you should use the qiskit-ibm-provider package which is accessible from 'qiskit_ibm_provider'. You can install it with 'pip install qiskit_ibm_provider'. Just replace 'qiskit.IBMQ' with 'qiskit_ibm_provider.IBMProvider'\n",
      "  IBMQ.load_account()\n"
     ]
    },
    {
     "name": "stdout",
     "output_type": "stream",
     "text": [
      "Job Status: job has successfully run\n"
     ]
    }
   ],
   "source": [
    "# Load the IBMQ account\n",
    "from qiskit.tools.monitor import job_monitor\n",
    "from qiskit import IBMQ\n",
    "IBMQ.load_account()\n",
    "\n",
    "# Get the provider and backend\n",
    "provider = IBMQ.get_provider(hub='ibm-q', group='open')\n",
    "backend = provider.get_backend('ibm_osaka')\n",
    "\n",
    "results = []\n",
    "edge_scan_result = []\n",
    "\n",
    "Total_scan_h = []\n",
    "Total_scan_v = []\n",
    "\n",
    "for i, circ in enumerate(circ_list_all):\n",
    "    # Transpile the circuits for optimized execution on the backend\n",
    "    qc_h_t = transpile(circ[0], backend=backend, optimization_level=3)\n",
    "    qc_v_t = transpile(circ[1], backend=backend, optimization_level=3)\n",
    "    circ_list_t = [qc_h_t, qc_v_t]\n",
    "    job = execute(circ_list_t, backend=backend, shots=4096)\n",
    "    job_monitor(job)\n",
    "    result = job.result()\n",
    "    counts_h = result.get_counts(qc_h_t)\n",
    "    counts_v = result.get_counts(qc_v_t)\n",
    "    results.append([counts_h, counts_v])\n",
    "    edge_scan_small_h = np.array([counts_h[f'{2*i+1:0{total_qb}b}'] for i in range(2**data_qb)]).reshape(crop_size, crop_size)\n",
    "    edge_scan_small_v = np.array([counts_v[f'{2*i+1:0{total_qb}b}'] for i in range(2**data_qb)]).reshape(crop_size, crop_size).T\n",
    "    Total_scan_h.append(edge_scan_small_h) #[16, 128, 128]\n",
    "    Total_scan_v.append(edge_scan_small_v)\n",
    "    edge_scan_result.append([edge_scan_small_h, edge_scan_small_v])\n",
    "\n",
    "    # npy saved in plot_image\n",
    "    plot_image(edge_scan_small_h, i=i, title='Horizontal')\n",
    "    plot_image(edge_scan_small_v, i=i, title='Vertical')"
   ]
  },
  {
   "cell_type": "code",
   "execution_count": 12,
   "metadata": {},
   "outputs": [],
   "source": [
    "Total_scan_h = np.asarray(Total_scan_h)   \n",
    "Total_scan_v = np.asarray(Total_scan_v)\n",
    "Result_h = np.zeros((16, 16))\n",
    "Result_v = np.zeros((16, 16))\n",
    "\n",
    "for i in range(times):\n",
    "    for j in range(times):\n",
    "        Result_h[crop_size*i:crop_size*(i+1), crop_size*j:crop_size*(j+1)] = Total_scan_h[i*(times)+j,:,:] \n",
    "        Result_v[crop_size*i:crop_size*(i+1), crop_size*j:crop_size*(j+1)] = Total_scan_v[i*(times)+j,:,:]\n",
    "\n",
    "plot_image(Result_h, i=i, title='Result_Horizontal')\n",
    "plot_image(Result_v, i=i, title='Result_Vertical')"
   ]
  },
  {
   "cell_type": "code",
   "execution_count": 13,
   "metadata": {},
   "outputs": [],
   "source": [
    "# Classical postprocessing for plotting the output\n",
    "\n",
    "# Defining a lambda function for\n",
    "# thresholding to binary values\n",
    "# thr = 2e-20\n",
    "# threshold = lambda amp: (amp > thr or amp < -thr)\n",
    "\n",
    "# Selecting odd states from the raw statevector and\n",
    "# reshaping column vector of size 64 to an 8x8 matrix\n",
    "# edge_scan_h = np.abs(np.array([1 if threshold(sv_h[2*i+1].real) else 0 for i in range(2**data_qb)])).reshape(image.shape[0], image.shape[1])\n",
    "# edge_scan_v = np.abs(np.array([1 if threshold(sv_v[2*i+1].real) else 0 for i in range(2**data_qb)])).reshape(image.shape[0], image.shape[1]).T\n",
    "\n",
    "\n",
    "# Plotting the Horizontal and vertical scans\n",
    "# plot_image(edge_scan_h, 'Horizontal scan output')\n",
    "# plot_image(edge_scan_v, 'Vertical scan output')\n",
    "\n",
    "# plot_image(edge_scan_h, 'Horizontal scan output')\n",
    "# plot_image(edge_scan_v, 'Vertical scan output')"
   ]
  },
  {
   "cell_type": "code",
   "execution_count": 14,
   "metadata": {},
   "outputs": [],
   "source": [
    "# Combining the horizontal and vertical component of the result\n",
    "# edge_scan_sim = edge_scan_h  | edge_scan_v\n",
    "# edge_scan_sim = edge_scan_h*0.5 + edge_scan_v*0.5\n",
    "\n",
    "# # Plotting the original and edge-detected images\n",
    "# plot_image(image, 'Original image')\n",
    "# plot_image(edge_scan_sim, 'Edge Detected image')"
   ]
  }
 ],
 "metadata": {
  "kernelspec": {
   "display_name": "IBMQ",
   "language": "python",
   "name": "python3"
  },
  "language_info": {
   "codemirror_mode": {
    "name": "ipython",
    "version": 3
   },
   "file_extension": ".py",
   "mimetype": "text/x-python",
   "name": "python",
   "nbconvert_exporter": "python",
   "pygments_lexer": "ipython3",
   "version": "3.11.5"
  }
 },
 "nbformat": 4,
 "nbformat_minor": 2
}
