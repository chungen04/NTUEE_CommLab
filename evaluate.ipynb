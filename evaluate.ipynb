{
 "cells": [
  {
   "cell_type": "code",
   "execution_count": null,
   "metadata": {},
   "outputs": [],
   "source": [
    "import numpy as np\n",
    "import matplotlib.pyplot as plt\n",
    "from PIL import Image\n",
    "from skimage import feature\n",
    "from skimage.metrics import mean_squared_error,peak_signal_noise_ratio,structural_similarity"
   ]
  },
  {
   "cell_type": "code",
   "execution_count": null,
   "metadata": {},
   "outputs": [],
   "source": [
    "img_name = \"elephant\"  #[elephant, cameraman]\n",
    "img_path = f\"imgs/{img_name}.png\"\n",
    "gt_path = f\"gt/{img_name}_gt.png\"\n",
    "Result_h_path = \"result_npy/Result_h_64.npy\"\n",
    "Result_v_path = \"result_npy/Result_v_64.npy\"\n",
    "\n",
    "# Binary Threshold\n",
    "threshold = 0.001"
   ]
  },
  {
   "cell_type": "code",
   "execution_count": null,
   "metadata": {},
   "outputs": [],
   "source": [
    "def show_img(img):\n",
    "    plt.imshow(img, extent=[0, img.shape[0], img.shape[1], 0], cmap='binary') \n",
    "    plt.show()"
   ]
  },
  {
   "cell_type": "code",
   "execution_count": null,
   "metadata": {},
   "outputs": [],
   "source": [
    "def save_img(img, path = \"test.png\"):\n",
    "    plt.imshow(img, extent=[0, img.shape[0], img.shape[1], 0], cmap='binary') \n",
    "    plt.savefig(path)\n",
    "    plt.show()"
   ]
  },
  {
   "cell_type": "markdown",
   "metadata": {},
   "source": [
    "Read Original and Gt Image"
   ]
  },
  {
   "cell_type": "code",
   "execution_count": null,
   "metadata": {},
   "outputs": [],
   "source": [
    "original_img = np.asarray(Image.open(img_path).convert('L'))\n",
    "scale_original_img = (original_img - np.min(original_img)) / (np.max(original_img) - np.min(original_img))\n",
    "show_img(scale_original_img)\n",
    "\n",
    "gt_img = np.asarray(Image.open(gt_path))\n",
    "scale_gt_img = gt_img / 255.0\n",
    "show_img(scale_gt_img)"
   ]
  },
  {
   "cell_type": "markdown",
   "metadata": {},
   "source": [
    "Load Pred Edge "
   ]
  },
  {
   "cell_type": "code",
   "execution_count": null,
   "metadata": {},
   "outputs": [],
   "source": [
    "Result_h = np.load(Result_h_path)\n",
    "Result_v = np.load(Result_v_path)\n",
    "\n",
    "pred_img = Result_h + Result_v\n",
    "scale_pred_img = (pred_img - np.min(pred_img)) / (np.max(pred_img) - np.min(pred_img))\n",
    "show_img(scale_pred_img)"
   ]
  },
  {
   "cell_type": "markdown",
   "metadata": {},
   "source": [
    "Mask Pred Edge with Binary Threshold"
   ]
  },
  {
   "cell_type": "code",
   "execution_count": null,
   "metadata": {},
   "outputs": [],
   "source": [
    "mask_pred_img = np.where(pred_img > threshold, 1.0, 0.0)\n",
    "show_img(mask_pred_img)"
   ]
  },
  {
   "cell_type": "markdown",
   "metadata": {},
   "source": [
    "Canny Egde detection"
   ]
  },
  {
   "cell_type": "code",
   "execution_count": null,
   "metadata": {},
   "outputs": [],
   "source": [
    "sigma = 1.0 #Default 1.0\n",
    "canny_img = feature.canny(original_img).astype(float)\n",
    "show_img(canny_img)"
   ]
  },
  {
   "cell_type": "markdown",
   "metadata": {},
   "source": [
    "Metrics for Edge Evaluation"
   ]
  },
  {
   "cell_type": "code",
   "execution_count": null,
   "metadata": {},
   "outputs": [],
   "source": [
    "def metrics(I1, I2, name = \"No Specify the Name\"):\n",
    "    print(name)\n",
    "    print(f\"MSE: {mean_squared_error(I1, I2)}\")   #The smaller the better\n",
    "    print(f\"PSNR: {peak_signal_noise_ratio(I1, I2)}\")   #The larger the better\n",
    "    print(f\"SSIM: {structural_similarity(I1, I2, data_range = 1)}\")    #The larger the better\n",
    "    print(\"\\n\")"
   ]
  },
  {
   "cell_type": "code",
   "execution_count": null,
   "metadata": {},
   "outputs": [],
   "source": [
    "metrics(scale_gt_img, scale_original_img, name = \"Original Image\")\n",
    "metrics(scale_gt_img, scale_pred_img, name = \"Pred Image without mask\")\n",
    "metrics(scale_gt_img, mask_pred_img, name = \"Masked Pred Image\")\n",
    "metrics(scale_gt_img, canny_img, name = \"Canny Pred Image\")"
   ]
  }
 ],
 "metadata": {
  "kernelspec": {
   "display_name": "IBMQ",
   "language": "python",
   "name": "python3"
  },
  "language_info": {
   "codemirror_mode": {
    "name": "ipython",
    "version": 3
   },
   "file_extension": ".py",
   "mimetype": "text/x-python",
   "name": "python",
   "nbconvert_exporter": "python",
   "pygments_lexer": "ipython3",
   "version": "3.8.18"
  }
 },
 "nbformat": 4,
 "nbformat_minor": 2
}
