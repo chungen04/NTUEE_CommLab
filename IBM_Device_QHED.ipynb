{
 "cells": [
  {
   "cell_type": "code",
   "execution_count": null,
   "metadata": {},
   "outputs": [],
   "source": [
    "# Importing standard Qiskit libraries and configuring account\n",
    "from qiskit import *\n",
    "from qiskit import IBMQ\n",
    "from qiskit.compiler import transpile, assemble\n",
    "from qiskit.tools.jupyter import *\n",
    "from qiskit.visualization import *\n",
    "\n",
    "import numpy as np\n",
    "import os\n",
    "import matplotlib.pyplot as plt\n",
    "from matplotlib import style\n",
    "style.use('bmh')\n",
    "\n",
    "from PIL import Image\n",
    "import math"
   ]
  },
  {
   "cell_type": "code",
   "execution_count": null,
   "metadata": {},
   "outputs": [],
   "source": [
    "# A 8x8 binary image represented as a numpy array\n",
    "image = np.array([[0, 0, 0, 0, 0, 0, 0, 0],\n",
    "                  [0, 1, 1, 1, 1, 1, 0, 0],\n",
    "                  [0, 1, 1, 1, 1, 1, 1, 0],\n",
    "                  [0, 1, 1, 1, 1, 1, 1, 0],\n",
    "                  [0, 1, 1, 1, 1, 1, 1, 0],\n",
    "                  [0, 0, 0, 1, 1, 1, 1, 0],\n",
    "                  [0, 0, 0, 1, 1, 1, 1, 0],\n",
    "                  [0, 0, 0, 0, 0, 0, 0, 0]])\n",
    "\n",
    "# Function for plotting the image using matplotlib\n",
    "def plot_image(img, title: str):\n",
    "    plt.title(title)\n",
    "    plt.xticks(range(img.shape[0]))\n",
    "    plt.yticks(range(img.shape[1]))\n",
    "    plt.imshow(img, extent=[0, img.shape[0], img.shape[1], 0], cmap='viridis')\n",
    "    plt.show()\n",
    "    \n",
    "plot_image(image, 'Original Image')"
   ]
  },
  {
   "cell_type": "code",
   "execution_count": null,
   "metadata": {},
   "outputs": [],
   "source": [
    "# Load the IBMQ account\n",
    "IBMQ.load_account()\n",
    "\n",
    "# Get the provider and backend\n",
    "provider = IBMQ.get_provider(hub='ibm-q', group='open')\n",
    "backend = provider.get_backend('ibmq_santiago')"
   ]
  },
  {
   "cell_type": "code",
   "execution_count": null,
   "metadata": {},
   "outputs": [],
   "source": [
    "# Create a 2x2 image to be run on the hardware\n",
    "# The pixels in `image_small` correspond to the pixels at\n",
    "# (6, 2), (6, 3), (7, 2), (7, 3) respectively\n",
    "image_small = image[6:8, 2:4]\n",
    "\n",
    "# Plotting the image_small using matplotlib\n",
    "plot_image(image_small, 'Cropped image')"
   ]
  },
  {
   "cell_type": "code",
   "execution_count": null,
   "metadata": {},
   "outputs": [],
   "source": [
    "# Initialize the number of qubits\n",
    "data_qb = 2\n",
    "anc_qb = 1\n",
    "total_qb = data_qb + anc_qb"
   ]
  },
  {
   "cell_type": "code",
   "execution_count": null,
   "metadata": {},
   "outputs": [],
   "source": [
    "# Create the circuit for horizontal scan\n",
    "qc_small_h = QuantumCircuit(total_qb)\n",
    "qc_small_h.x(1)\n",
    "qc_small_h.h(0)\n",
    "\n",
    "# Decrement gate - START\n",
    "qc_small_h.x(0)\n",
    "qc_small_h.cx(0, 1)\n",
    "qc_small_h.ccx(0, 1, 2)\n",
    "# Decrement gate - END\n",
    "\n",
    "qc_small_h.h(0)\n",
    "qc_small_h.measure_all()\n",
    "display(qc_small_h.draw('mpl'))\n",
    "\n",
    "# Create the circuit for vertical scan\n",
    "qc_small_v = QuantumCircuit(total_qb)\n",
    "qc_small_v.x(2)\n",
    "qc_small_v.h(0)\n",
    "\n",
    "# Decrement gate - START\n",
    "qc_small_v.x(0)\n",
    "qc_small_v.cx(0, 1)\n",
    "qc_small_v.ccx(0, 1, 2)\n",
    "# Decrement gate - END\n",
    "\n",
    "qc_small_v.h(0)\n",
    "qc_small_v.measure_all()\n",
    "display(qc_small_v.draw('mpl'))\n",
    "\n",
    "# Combine both circuits into a single list\n",
    "circ_list = [qc_small_h, qc_small_v]"
   ]
  },
  {
   "cell_type": "code",
   "execution_count": null,
   "metadata": {},
   "outputs": [],
   "source": [
    "# Transpile the circuits for optimized execution on the backend\n",
    "qc_small_h_t = transpile(qc_small_h, backend=backend, optimization_level=3)\n",
    "qc_small_v_t = transpile(qc_small_v, backend=backend, optimization_level=3)"
   ]
  },
  {
   "cell_type": "code",
   "execution_count": null,
   "metadata": {},
   "outputs": [],
   "source": [
    "\n",
    "# Combining both circuits into a list\n",
    "circ_list_t = [qc_small_h_t, qc_small_v_t]\n",
    "\n",
    "# Drawing the transpiled circuit\n",
    "display(circ_list_t[0].draw('mpl', fold=-1))\n",
    "display(circ_list_t[1].draw('mpl', fold=-1))"
   ]
  },
  {
   "cell_type": "code",
   "execution_count": null,
   "metadata": {},
   "outputs": [],
   "source": [
    "from qiskit.tools.monitor import job_monitor\n",
    "\n",
    "# Executing the circuits on the backend\n",
    "job = execute(circ_list_t, backend=backend, shots=8192)\n",
    "job_monitor(job)"
   ]
  },
  {
   "cell_type": "code",
   "execution_count": null,
   "metadata": {},
   "outputs": [],
   "source": [
    "from qiskit.visualization import plot_histogram\n",
    "\n",
    "# Getting the resultant probability distribution after measurement\n",
    "result = job.result()\n",
    "counts_h = result.get_counts(qc_small_h)\n",
    "counts_v = result.get_counts(qc_small_v)\n",
    "\n",
    "print('Counts for Horizontal scan:')\n",
    "display(plot_histogram(counts_h))\n",
    "\n",
    "print('\\n\\nCounts for Vertical scan:')\n",
    "display(plot_histogram(counts_v))"
   ]
  },
  {
   "cell_type": "code",
   "execution_count": null,
   "metadata": {},
   "outputs": [],
   "source": [
    "# Extracting counts for odd-numbered states\n",
    "edge_scan_small_h = np.array([counts_h[f'{2*i+1:03b}'] for i in range(2**data_qb)]).reshape(2, 2)\n",
    "edge_scan_small_v = np.array([counts_v[f'{2*i+1:03b}'] for i in range(2**data_qb)]).reshape(2, 2).T\n",
    "\n",
    "plot_image(edge_scan_small_h, 'Horizontal scan output')\n",
    "plot_image(edge_scan_small_v, 'Vertical scan output')"
   ]
  },
  {
   "cell_type": "code",
   "execution_count": null,
   "metadata": {},
   "outputs": [],
   "source": [
    "edge_detected_image_small = edge_scan_small_h + edge_scan_small_v\n",
    "\n",
    "# Plotting the original and edge-detected images\n",
    "plot_image(edge_detected_image_small, 'Full Edge Detected Image')"
   ]
  },
  {
   "cell_type": "code",
   "execution_count": null,
   "metadata": {},
   "outputs": [],
   "source": [
    "# Initialise the qasm_simulator from the Aer package\n",
    "sim = Aer.get_backend('qasm_simulator')\n",
    "res = sim.run(circ_list_t, shots=8192).result()\n",
    "sim_counts_h = res.get_counts(qc_small_h)\n",
    "sim_counts_v = res.get_counts(qc_small_v)\n",
    "\n",
    "# Get the measurement counts from the result\n",
    "sim_keys_h = sim_counts_h.keys()\n",
    "sim_keys_v = sim_counts_v.keys()\n",
    "\n",
    "# Filter and extract the counts for odd-numbered states\n",
    "# and make the full edge-detected image by adding horizontal and vertical scans\n",
    "edge_scan_sim_h = np.array([sim_counts_h[f'{2*i+1:03b}'] if f'{2*i+1:03b}' in sim_keys_h else 0 for i in range(2**data_qb)]).reshape(2, 2)\n",
    "edge_scan_sim_v = np.array([sim_counts_v[f'{2*i+1:03b}'] if f'{2*i+1:03b}' in sim_keys_v else 0 for i in range(2**data_qb)]).reshape(2, 2).T\n",
    "edge_detected_sim_small = edge_scan_sim_h + edge_scan_sim_v\n",
    "\n",
    "# Plot all the simulator-run, hardware-run, and original images\n",
    "plot_image(edge_detected_sim_small, 'Edge Detected Image (QASM sim)')\n",
    "plot_image(edge_detected_image_small, 'Edge Detected Image (Hardware)')\n",
    "plot_image(image_small, 'Original image')"
   ]
  }
 ],
 "metadata": {
  "kernelspec": {
   "display_name": "IBMQ",
   "language": "python",
   "name": "python3"
  },
  "language_info": {
   "codemirror_mode": {
    "name": "ipython",
    "version": 3
   },
   "file_extension": ".py",
   "mimetype": "text/x-python",
   "name": "python",
   "nbconvert_exporter": "python",
   "pygments_lexer": "ipython3",
   "version": "3.8.18"
  }
 },
 "nbformat": 4,
 "nbformat_minor": 2
}
