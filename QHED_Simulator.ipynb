{
 "cells": [
  {
   "cell_type": "code",
   "execution_count": null,
   "metadata": {},
   "outputs": [],
   "source": [
    "# Importing standard Qiskit libraries and configuring account\n",
    "from qiskit import *\n",
    "from qiskit import IBMQ\n",
    "from qiskit.compiler import transpile, assemble\n",
    "from qiskit.tools.jupyter import *\n",
    "from qiskit.visualization import *\n",
    "\n",
    "import numpy as np\n",
    "import os\n",
    "import matplotlib.pyplot as plt\n",
    "from matplotlib import style\n",
    "style.use('bmh')\n",
    "\n",
    "from PIL import Image\n",
    "import math"
   ]
  },
  {
   "cell_type": "code",
   "execution_count": null,
   "metadata": {},
   "outputs": [],
   "source": [
    "crop_size = 16\n",
    "name = \"elephant\" # [elephant, cameraman]\n",
    "\n",
    "### Noise\n",
    "Noise = False   # True: add noise to original image\n",
    "mean = 0\n",
    "std = 0.01"
   ]
  },
  {
   "cell_type": "code",
   "execution_count": null,
   "metadata": {},
   "outputs": [],
   "source": [
    "img_dir = f\"imgs/{name}.png\"\n",
    "\n",
    "data_qb = int(math.log2(crop_size**2))\n",
    "anc_qb = 1\n",
    "total_qb = data_qb + anc_qb\n",
    "print(f\"Total Qubits: {total_qb}\")\n",
    "\n",
    "noise = f\"Noise_std{std}\" if Noise else \"\"\n",
    "save_dir = f\"result_{name}/result_image_crop{crop_size}{noise}\"\n",
    "os.makedirs(save_dir, exist_ok=True)"
   ]
  },
  {
   "cell_type": "markdown",
   "metadata": {},
   "source": [
    "Crop the image"
   ]
  },
  {
   "cell_type": "code",
   "execution_count": null,
   "metadata": {},
   "outputs": [],
   "source": [
    "\n",
    "\n",
    "# Function for plotting the image using matplotlib\n",
    "def plot_image(img, i, title: str):\n",
    "    plt.title(title)\n",
    "    plt.xticks(range(img.shape[0]))\n",
    "    plt.yticks(range(img.shape[1]))\n",
    "    \n",
    "    plt.imshow(img, extent=[0, img.shape[0], img.shape[1], 0], cmap='binary')\n",
    "    plt.savefig(f\"{save_dir}/{title}_{i}.jpg\")\n",
    "    plt.close()\n",
    "    # plt.show()\n",
    "    \n",
    "# plot_image(image, 'Original Image')\n"
   ]
  },
  {
   "cell_type": "code",
   "execution_count": null,
   "metadata": {},
   "outputs": [],
   "source": [
    "def addNoise(img, mean, std, Noise = False):\n",
    "    if Noise == False:\n",
    "        return img\n",
    "    else:\n",
    "        img = np.array(img/255.0, dtype=float)\n",
    "        noise = np.random.normal(mean, std, img.shape)\n",
    "        dB = 10 * math.log10(1 / (std**2))\n",
    "        print(f\"DB: {dB}\")\n",
    "        out = img + noise\n",
    "        \n",
    "        out = np.clip(out, 0.0, 1.0)\n",
    "        out = np.uint8(out*255)\n",
    "        \n",
    "        return out"
   ]
  },
  {
   "cell_type": "code",
   "execution_count": null,
   "metadata": {},
   "outputs": [],
   "source": [
    "image = np.array(Image.open(img_dir).convert('L'))\n",
    "print(f\"Original Image Shape: {image.shape}\")\n",
    "\n",
    "plt.imshow(image, extent=[0, image.shape[0], image.shape[1], 0], cmap='binary')\n",
    "plt.show()\n",
    "image = addNoise(image, mean, std, Noise = Noise)\n",
    "noise_image = image\n",
    "\n",
    "original_img = [image.shape[0], image.shape[1]]\n",
    "times = int(image.shape[0]/crop_size)\n",
    "crop_image = np.zeros((times**2, crop_size, crop_size))\n",
    "for i in range(times):\n",
    "    for j in range(times):\n",
    "        crop_image[i*times+j] = image[i*crop_size:(i+1)*crop_size, j*crop_size:(j+1)*crop_size]\n",
    "image = crop_image\n",
    "\n",
    "print(f\"Cropped Image Shape: {image.shape}\")"
   ]
  },
  {
   "cell_type": "code",
   "execution_count": null,
   "metadata": {},
   "outputs": [],
   "source": [
    "plt.imshow(noise_image, extent=[0, noise_image.shape[0], noise_image.shape[1], 0], cmap='binary')\n",
    "plt.show"
   ]
  },
  {
   "cell_type": "code",
   "execution_count": null,
   "metadata": {},
   "outputs": [],
   "source": [
    "# Convert the raw pixel values to probability amplitudes\n",
    "def amplitude_encode(img_data):\n",
    "    \n",
    "    # Calculate the RMS value\n",
    "    rms = np.sqrt((np.sum(np.square(img_data, dtype='float64'), axis=None)))\n",
    "    \n",
    "    # Create normalized image\n",
    "    image_norm = []\n",
    "    for arr in img_data:\n",
    "        for ele in arr:\n",
    "            image_norm.append(ele / rms)\n",
    "    # Return the normalized image as a numpy array\n",
    "    return np.array(image_norm)\n",
    "\n",
    "# Get the amplitude ancoded pixel values\n",
    "# Horizontal: Original image\n",
    "image_norm_h = np.asarray([amplitude_encode(image[i]) for i in range(image.shape[0])])\n",
    "\n",
    "# Vertical: Transpose of Original image\n",
    "image_norm_v = np.asarray([amplitude_encode(image[i].T) for i in range(image.shape[0])])"
   ]
  },
  {
   "cell_type": "code",
   "execution_count": null,
   "metadata": {},
   "outputs": [],
   "source": [
    "# Initialize the amplitude permutation unitary\n",
    "D2n_1 = np.roll(np.identity(2**total_qb), 1, axis=1)"
   ]
  },
  {
   "cell_type": "code",
   "execution_count": null,
   "metadata": {},
   "outputs": [],
   "source": [
    "def generateCircuit(image_norm_h, image_norm_v):\n",
    "\n",
    "    # Create the circuit for horizontal scan\n",
    "    qc_h = QuantumCircuit(total_qb)\n",
    "    qc_h.initialize(image_norm_h, range(1, total_qb))\n",
    "    qc_h.h(0)\n",
    "    qc_h.unitary(D2n_1, range(total_qb))\n",
    "    qc_h.h(0)\n",
    "    # display(qc_h.draw('mpl', fold=-1))\n",
    "\n",
    "    # Create the circuit for vertical scan\n",
    "    qc_v = QuantumCircuit(total_qb)\n",
    "    qc_v.initialize(image_norm_v, range(1, total_qb))\n",
    "    qc_v.h(0)\n",
    "    qc_v.unitary(D2n_1, range(total_qb))\n",
    "    qc_v.h(0)\n",
    "    # display(qc_v.draw('mpl', fold=-1))\n",
    "\n",
    "    # Combine both circuits into a single list\n",
    "    circ_list = [qc_h, qc_v]\n",
    "    \n",
    "    return qc_h, qc_v, circ_list"
   ]
  },
  {
   "cell_type": "code",
   "execution_count": null,
   "metadata": {},
   "outputs": [],
   "source": [
    "def QuantumSimulate(qc_h, qc_v, circ_list):\n",
    "    # Simulating the cirucits\n",
    "    back = Aer.get_backend('statevector_simulator')\n",
    "    results = execute(circ_list, backend=back).result()\n",
    "    sv_h = results.get_statevector(qc_h)\n",
    "    sv_v = results.get_statevector(qc_v)\n",
    "\n",
    "    from qiskit.visualization import array_to_latex\n",
    "    print('Horizontal scan statevector:')\n",
    "    # display(array_to_latex(sv_h[:30], max_size=30))\n",
    "    print()\n",
    "    print('Vertical scan statevector:')\n",
    "    # display(array_to_latex(sv_v[:30], max_size=30))\n",
    "    \n",
    "    return sv_h, sv_v"
   ]
  },
  {
   "cell_type": "code",
   "execution_count": null,
   "metadata": {},
   "outputs": [],
   "source": [
    "def scanEdge(sv_h, sv_v):\n",
    "    edge_scan_h = np.array([sv_h[f'{2*i+1:0{total_qb}b}'].real for i in range(2**data_qb)]).reshape(image.shape[1], image.shape[2])\n",
    "    edge_scan_v = np.array([sv_v[f'{2*i+1:0{total_qb}b}'].real for i in range(2**data_qb)]).reshape(image.shape[1], image.shape[2]).T\n",
    "\n",
    "    return edge_scan_h, edge_scan_v"
   ]
  },
  {
   "cell_type": "code",
   "execution_count": null,
   "metadata": {},
   "outputs": [],
   "source": [
    "Total_scan_h = []\n",
    "Total_scan_v = []\n",
    "for i in range(image_norm_h.shape[0]):\n",
    "    print(f\"Idx: {i}\")\n",
    "    qc_h, qc_v, circ_list = generateCircuit(image_norm_h[i], image_norm_v[i])\n",
    "    sv_h, sv_v = QuantumSimulate(qc_h, qc_v, circ_list)\n",
    "    edge_scan_h, edge_scan_v = scanEdge(sv_h, sv_v)\n",
    "    Total_scan_h.append(edge_scan_h) #[16, 128, 128]\n",
    "    Total_scan_v.append(edge_scan_v)\n",
    "    # plot_image(edge_scan_h, i=i, title='Horizontal')\n",
    "    # plot_image(edge_scan_v, i=i, title='Vertical')\n",
    "    \n",
    "\n",
    "Total_scan_h = np.asarray(Total_scan_h)   \n",
    "Total_scan_v = np.asarray(Total_scan_v)\n",
    "Result_h = np.zeros((original_img[0], original_img[1]))\n",
    "Result_v = np.zeros((original_img[0], original_img[1]))\n"
   ]
  },
  {
   "cell_type": "code",
   "execution_count": null,
   "metadata": {},
   "outputs": [],
   "source": [
    "for i in range(times):\n",
    "    for j in range(times):\n",
    "        Result_h[crop_size*i:crop_size*(i+1), crop_size*j:crop_size*(j+1)] = Total_scan_h[i*(times)+j,:,:] \n",
    "        Result_v[crop_size*i:crop_size*(i+1), crop_size*j:crop_size*(j+1)] = Total_scan_v[i*(times)+j,:,:]\n",
    "\n",
    "plot_image(Result_h, i=i, title='Result_Horizontal')\n",
    "plot_image(Result_v, i=i, title='Result_Vertical')"
   ]
  },
  {
   "cell_type": "code",
   "execution_count": null,
   "metadata": {},
   "outputs": [],
   "source": [
    "All = Result_h + Result_v\n",
    "plot_image(All, i=i, title='All')"
   ]
  },
  {
   "cell_type": "code",
   "execution_count": null,
   "metadata": {},
   "outputs": [],
   "source": [
    "npy_savedir = f\"result_{name}/result_npy\"\n",
    "os.makedirs(npy_savedir, exist_ok=True)\n",
    "np.save(os.path.join(npy_savedir, f\"Result_h_{crop_size}{noise}.npy\"), Result_h)\n",
    "np.save(os.path.join(npy_savedir, f\"Result_v_{crop_size}{noise}.npy\"), Result_v)"
   ]
  }
 ],
 "metadata": {
  "kernelspec": {
   "display_name": "IBMQ",
   "language": "python",
   "name": "python3"
  },
  "language_info": {
   "codemirror_mode": {
    "name": "ipython",
    "version": 3
   },
   "file_extension": ".py",
   "mimetype": "text/x-python",
   "name": "python",
   "nbconvert_exporter": "python",
   "pygments_lexer": "ipython3",
   "version": "3.11.5"
  }
 },
 "nbformat": 4,
 "nbformat_minor": 2
}
