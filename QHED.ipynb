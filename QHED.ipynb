{
 "cells": [
  {
   "cell_type": "code",
   "execution_count": 1,
   "metadata": {},
   "outputs": [],
   "source": [
    "# Importing standard Qiskit libraries and configuring account\n",
    "from qiskit import *\n",
    "from qiskit import IBMQ\n",
    "from qiskit.compiler import transpile, assemble\n",
    "from qiskit.tools.jupyter import *\n",
    "from qiskit.visualization import *\n",
    "\n",
    "import numpy as np\n",
    "import matplotlib.pyplot as plt\n",
    "from matplotlib import style\n",
    "style.use('bmh')\n",
    "\n",
    "from PIL import Image\n",
    "import math"
   ]
  },
  {
   "cell_type": "code",
   "execution_count": 2,
   "metadata": {},
   "outputs": [
    {
     "name": "stdout",
     "output_type": "stream",
     "text": [
      "Total Qubits: 15\n"
     ]
    }
   ],
   "source": [
    "crop_size = 128\n",
    "img_dir = \"imgs/elephant.png\"\n",
    "\n",
    "data_qb = int(math.log2(crop_size**2))\n",
    "anc_qb = 1\n",
    "total_qb = data_qb + anc_qb\n",
    "print(f\"Total Qubits: {total_qb}\")"
   ]
  },
  {
   "cell_type": "markdown",
   "metadata": {},
   "source": [
    "Crop the image"
   ]
  },
  {
   "cell_type": "code",
   "execution_count": 3,
   "metadata": {},
   "outputs": [
    {
     "name": "stdout",
     "output_type": "stream",
     "text": [
      "Original Image Shape: (512, 512)\n",
      "Cropped Image Shape: (16, 128, 128)\n"
     ]
    }
   ],
   "source": [
    "image = np.array(Image.open(img_dir).convert('L'))\n",
    "print(f\"Original Image Shape: {image.shape}\")\n",
    "original_img = [image.shape[0], image.shape[1]]\n",
    "\n",
    "image = image.reshape((crop_size, crop_size, int((image.shape[0]/crop_size)**2)))\n",
    "image = np.transpose(image, (2,0,1))\n",
    "\n",
    "print(f\"Cropped Image Shape: {image.shape}\")"
   ]
  },
  {
   "cell_type": "code",
   "execution_count": 4,
   "metadata": {},
   "outputs": [],
   "source": [
    "\n",
    "\n",
    "# Function for plotting the image using matplotlib\n",
    "def plot_image(img, title: str):\n",
    "    plt.title(title)\n",
    "    plt.xticks(range(img.shape[0]))\n",
    "    plt.yticks(range(img.shape[1]))\n",
    "    plt.imshow(img, extent=[0, img.shape[0], img.shape[1], 0], cmap='binary')\n",
    "    plt.show()\n",
    "    \n",
    "# plot_image(image, 'Original Image')\n"
   ]
  },
  {
   "cell_type": "code",
   "execution_count": 5,
   "metadata": {},
   "outputs": [],
   "source": [
    "# Convert the raw pixel values to probability amplitudes\n",
    "def amplitude_encode(img_data):\n",
    "    \n",
    "    # Calculate the RMS value\n",
    "    rms = np.sqrt((np.sum(np.square(img_data, dtype='float64'), axis=None)))\n",
    "    \n",
    "    # Create normalized image\n",
    "    image_norm = []\n",
    "    for arr in img_data:\n",
    "        for ele in arr:\n",
    "            image_norm.append(ele / rms)\n",
    "    # Return the normalized image as a numpy array\n",
    "    return np.array(image_norm)\n",
    "\n",
    "# Get the amplitude ancoded pixel values\n",
    "# Horizontal: Original image\n",
    "image_norm_h = np.asarray([amplitude_encode(image[i]) for i in range(image.shape[0])])\n",
    "\n",
    "# Vertical: Transpose of Original image\n",
    "image_norm_v = np.asarray([amplitude_encode(image[i].T) for i in range(image.shape[0])])"
   ]
  },
  {
   "cell_type": "code",
   "execution_count": 6,
   "metadata": {},
   "outputs": [],
   "source": [
    "# Initialize the amplitude permutation unitary\n",
    "D2n_1 = np.roll(np.identity(2**total_qb), 1, axis=1)"
   ]
  },
  {
   "cell_type": "code",
   "execution_count": 7,
   "metadata": {},
   "outputs": [],
   "source": [
    "def generateCircuit(image_norm_h, image_norm_v):\n",
    "\n",
    "    # Create the circuit for horizontal scan\n",
    "    qc_h = QuantumCircuit(total_qb)\n",
    "    qc_h.initialize(image_norm_h, range(1, total_qb))\n",
    "    qc_h.h(0)\n",
    "    qc_h.unitary(D2n_1, range(total_qb))\n",
    "    qc_h.h(0)\n",
    "    display(qc_h.draw('mpl', fold=-1))\n",
    "\n",
    "    # Create the circuit for vertical scan\n",
    "    qc_v = QuantumCircuit(total_qb)\n",
    "    qc_v.initialize(image_norm_v, range(1, total_qb))\n",
    "    qc_v.h(0)\n",
    "    qc_v.unitary(D2n_1, range(total_qb))\n",
    "    qc_v.h(0)\n",
    "    display(qc_v.draw('mpl', fold=-1))\n",
    "\n",
    "    # Combine both circuits into a single list\n",
    "    circ_list = [qc_h, qc_v]\n",
    "    \n",
    "    return qc_h, qc_v, circ_list"
   ]
  },
  {
   "cell_type": "code",
   "execution_count": 8,
   "metadata": {},
   "outputs": [],
   "source": [
    "def QuantumSimulate(qc_h, qc_v, circ_list):\n",
    "    # Simulating the cirucits\n",
    "    back = Aer.get_backend('statevector_simulator')\n",
    "    results = execute(circ_list, backend=back).result()\n",
    "    sv_h = results.get_statevector(qc_h)\n",
    "    sv_v = results.get_statevector(qc_v)\n",
    "\n",
    "    from qiskit.visualization import array_to_latex\n",
    "    print('Horizontal scan statevector:')\n",
    "    # display(array_to_latex(sv_h[:30], max_size=30))\n",
    "    print()\n",
    "    print('Vertical scan statevector:')\n",
    "    # display(array_to_latex(sv_v[:30], max_size=30))\n",
    "    \n",
    "    return sv_h, sv_v"
   ]
  },
  {
   "cell_type": "code",
   "execution_count": 9,
   "metadata": {},
   "outputs": [],
   "source": [
    "def scanEdge(sv_h, sv_v):\n",
    "    edge_scan_h = np.array([sv_h[f'{2*i+1:03b}'].real for i in range(2**data_qb)]).reshape(image.shape[0], image.shape[1])\n",
    "    edge_scan_v = np.array([sv_v[f'{2*i+1:03b}'].real for i in range(2**data_qb)]).reshape(image.shape[0], image.shape[1]).T\n",
    "\n",
    "    return edge_scan_h, edge_scan_v"
   ]
  },
  {
   "cell_type": "code",
   "execution_count": 10,
   "metadata": {},
   "outputs": [
    {
     "name": "stdout",
     "output_type": "stream",
     "text": [
      "Idx: 0\n"
     ]
    },
    {
     "ename": "MemoryError",
     "evalue": "Unable to allocate 16.0 GiB for an array with shape (32768, 32768) and data type complex128",
     "output_type": "error",
     "traceback": [
      "\u001b[1;31m---------------------------------------------------------------------------\u001b[0m",
      "\u001b[1;31mMemoryError\u001b[0m                               Traceback (most recent call last)",
      "\u001b[1;32mc:\\Johnny\\大學\\大四上\\Communication System Lab\\FinalProject\\NTUEE_CommLab\\QHED.ipynb Cell 11\u001b[0m line \u001b[0;36m5\n\u001b[0;32m      <a href='vscode-notebook-cell:/c%3A/Johnny/%E5%A4%A7%E5%AD%B8/%E5%A4%A7%E5%9B%9B%E4%B8%8A/Communication%20System%20Lab/FinalProject/NTUEE_CommLab/QHED.ipynb#X22sZmlsZQ%3D%3D?line=2'>3</a>\u001b[0m \u001b[39mfor\u001b[39;00m i \u001b[39min\u001b[39;00m \u001b[39mrange\u001b[39m(image_norm_h\u001b[39m.\u001b[39mshape[\u001b[39m0\u001b[39m]):\n\u001b[0;32m      <a href='vscode-notebook-cell:/c%3A/Johnny/%E5%A4%A7%E5%AD%B8/%E5%A4%A7%E5%9B%9B%E4%B8%8A/Communication%20System%20Lab/FinalProject/NTUEE_CommLab/QHED.ipynb#X22sZmlsZQ%3D%3D?line=3'>4</a>\u001b[0m     \u001b[39mprint\u001b[39m(\u001b[39mf\u001b[39m\u001b[39m\"\u001b[39m\u001b[39mIdx: \u001b[39m\u001b[39m{\u001b[39;00mi\u001b[39m}\u001b[39;00m\u001b[39m\"\u001b[39m)\n\u001b[1;32m----> <a href='vscode-notebook-cell:/c%3A/Johnny/%E5%A4%A7%E5%AD%B8/%E5%A4%A7%E5%9B%9B%E4%B8%8A/Communication%20System%20Lab/FinalProject/NTUEE_CommLab/QHED.ipynb#X22sZmlsZQ%3D%3D?line=4'>5</a>\u001b[0m     qc_h, qc_v, circ_list \u001b[39m=\u001b[39m generateCircuit(image_norm_h[i], image_norm_v[i])\n\u001b[0;32m      <a href='vscode-notebook-cell:/c%3A/Johnny/%E5%A4%A7%E5%AD%B8/%E5%A4%A7%E5%9B%9B%E4%B8%8A/Communication%20System%20Lab/FinalProject/NTUEE_CommLab/QHED.ipynb#X22sZmlsZQ%3D%3D?line=5'>6</a>\u001b[0m     sv_h, sv_v \u001b[39m=\u001b[39m QuantumSimulate(qc_h, qc_v, circ_list)\n\u001b[0;32m      <a href='vscode-notebook-cell:/c%3A/Johnny/%E5%A4%A7%E5%AD%B8/%E5%A4%A7%E5%9B%9B%E4%B8%8A/Communication%20System%20Lab/FinalProject/NTUEE_CommLab/QHED.ipynb#X22sZmlsZQ%3D%3D?line=6'>7</a>\u001b[0m     edge_scan_h, edge_scan_v \u001b[39m=\u001b[39m scanEdge(sv_h, sv_v)\n",
      "\u001b[1;32mc:\\Johnny\\大學\\大四上\\Communication System Lab\\FinalProject\\NTUEE_CommLab\\QHED.ipynb Cell 11\u001b[0m line \u001b[0;36m7\n\u001b[0;32m      <a href='vscode-notebook-cell:/c%3A/Johnny/%E5%A4%A7%E5%AD%B8/%E5%A4%A7%E5%9B%9B%E4%B8%8A/Communication%20System%20Lab/FinalProject/NTUEE_CommLab/QHED.ipynb#X22sZmlsZQ%3D%3D?line=4'>5</a>\u001b[0m qc_h\u001b[39m.\u001b[39minitialize(image_norm_h, \u001b[39mrange\u001b[39m(\u001b[39m1\u001b[39m, total_qb))\n\u001b[0;32m      <a href='vscode-notebook-cell:/c%3A/Johnny/%E5%A4%A7%E5%AD%B8/%E5%A4%A7%E5%9B%9B%E4%B8%8A/Communication%20System%20Lab/FinalProject/NTUEE_CommLab/QHED.ipynb#X22sZmlsZQ%3D%3D?line=5'>6</a>\u001b[0m qc_h\u001b[39m.\u001b[39mh(\u001b[39m0\u001b[39m)\n\u001b[1;32m----> <a href='vscode-notebook-cell:/c%3A/Johnny/%E5%A4%A7%E5%AD%B8/%E5%A4%A7%E5%9B%9B%E4%B8%8A/Communication%20System%20Lab/FinalProject/NTUEE_CommLab/QHED.ipynb#X22sZmlsZQ%3D%3D?line=6'>7</a>\u001b[0m qc_h\u001b[39m.\u001b[39;49munitary(D2n_1, \u001b[39mrange\u001b[39;49m(total_qb))\n\u001b[0;32m      <a href='vscode-notebook-cell:/c%3A/Johnny/%E5%A4%A7%E5%AD%B8/%E5%A4%A7%E5%9B%9B%E4%B8%8A/Communication%20System%20Lab/FinalProject/NTUEE_CommLab/QHED.ipynb#X22sZmlsZQ%3D%3D?line=7'>8</a>\u001b[0m qc_h\u001b[39m.\u001b[39mh(\u001b[39m0\u001b[39m)\n\u001b[0;32m      <a href='vscode-notebook-cell:/c%3A/Johnny/%E5%A4%A7%E5%AD%B8/%E5%A4%A7%E5%9B%9B%E4%B8%8A/Communication%20System%20Lab/FinalProject/NTUEE_CommLab/QHED.ipynb#X22sZmlsZQ%3D%3D?line=8'>9</a>\u001b[0m display(qc_h\u001b[39m.\u001b[39mdraw(\u001b[39m'\u001b[39m\u001b[39mmpl\u001b[39m\u001b[39m'\u001b[39m, fold\u001b[39m=\u001b[39m\u001b[39m-\u001b[39m\u001b[39m1\u001b[39m))\n",
      "File \u001b[1;32mc:\\Users\\User\\anaconda3\\envs\\IBMQ\\lib\\site-packages\\qiskit\\extensions\\unitary.py:214\u001b[0m, in \u001b[0;36munitary\u001b[1;34m(self, obj, qubits, label)\u001b[0m\n\u001b[0;32m    185\u001b[0m \u001b[39mdef\u001b[39;00m \u001b[39munitary\u001b[39m(\u001b[39mself\u001b[39m, obj, qubits, label\u001b[39m=\u001b[39m\u001b[39mNone\u001b[39;00m):\n\u001b[0;32m    186\u001b[0m \u001b[39m    \u001b[39m\u001b[39m\"\"\"Apply unitary gate specified by ``obj`` to ``qubits``.\u001b[39;00m\n\u001b[0;32m    187\u001b[0m \n\u001b[0;32m    188\u001b[0m \u001b[39m    Args:\u001b[39;00m\n\u001b[1;32m   (...)\u001b[0m\n\u001b[0;32m    212\u001b[0m \u001b[39m            circuit.unitary(matrix, [0, 1])\u001b[39;00m\n\u001b[0;32m    213\u001b[0m \u001b[39m    \"\"\"\u001b[39;00m\n\u001b[1;32m--> 214\u001b[0m     gate \u001b[39m=\u001b[39m UnitaryGate(obj, label\u001b[39m=\u001b[39;49mlabel)\n\u001b[0;32m    215\u001b[0m     \u001b[39mif\u001b[39;00m \u001b[39misinstance\u001b[39m(qubits, QuantumRegister):\n\u001b[0;32m    216\u001b[0m         qubits \u001b[39m=\u001b[39m qubits[:]\n",
      "File \u001b[1;32mc:\\Users\\User\\anaconda3\\envs\\IBMQ\\lib\\site-packages\\qiskit\\extensions\\unitary.py:81\u001b[0m, in \u001b[0;36mUnitaryGate.__init__\u001b[1;34m(self, data, label)\u001b[0m\n\u001b[0;32m     79\u001b[0m data \u001b[39m=\u001b[39m numpy\u001b[39m.\u001b[39marray(data, dtype\u001b[39m=\u001b[39m\u001b[39mcomplex\u001b[39m)\n\u001b[0;32m     80\u001b[0m \u001b[39m# Check input is unitary\u001b[39;00m\n\u001b[1;32m---> 81\u001b[0m \u001b[39mif\u001b[39;00m \u001b[39mnot\u001b[39;00m is_unitary_matrix(data):\n\u001b[0;32m     82\u001b[0m     \u001b[39mraise\u001b[39;00m ExtensionError(\u001b[39m\"\u001b[39m\u001b[39mInput matrix is not unitary.\u001b[39m\u001b[39m\"\u001b[39m)\n\u001b[0;32m     83\u001b[0m \u001b[39m# Check input is N-qubit matrix\u001b[39;00m\n",
      "File \u001b[1;32mc:\\Users\\User\\anaconda3\\envs\\IBMQ\\lib\\site-packages\\qiskit\\quantum_info\\operators\\predicates.py:160\u001b[0m, in \u001b[0;36mis_unitary_matrix\u001b[1;34m(mat, rtol, atol)\u001b[0m\n\u001b[0;32m    158\u001b[0m mat \u001b[39m=\u001b[39m np\u001b[39m.\u001b[39marray(mat)\n\u001b[0;32m    159\u001b[0m \u001b[39m# Compute A^dagger.A and see if it is identity matrix\u001b[39;00m\n\u001b[1;32m--> 160\u001b[0m mat \u001b[39m=\u001b[39m np\u001b[39m.\u001b[39;49mconj(mat\u001b[39m.\u001b[39;49mT)\u001b[39m.\u001b[39mdot(mat)\n\u001b[0;32m    161\u001b[0m \u001b[39mreturn\u001b[39;00m is_identity_matrix(mat, ignore_phase\u001b[39m=\u001b[39m\u001b[39mFalse\u001b[39;00m, rtol\u001b[39m=\u001b[39mrtol, atol\u001b[39m=\u001b[39matol)\n",
      "\u001b[1;31mMemoryError\u001b[0m: Unable to allocate 16.0 GiB for an array with shape (32768, 32768) and data type complex128"
     ]
    }
   ],
   "source": [
    "Total_scan_h = []\n",
    "Total_scan_v = []\n",
    "for i in range(image_norm_h.shape[0]):\n",
    "    print(f\"Idx: {i}\")\n",
    "    qc_h, qc_v, circ_list = generateCircuit(image_norm_h[i], image_norm_v[i])\n",
    "    sv_h, sv_v = QuantumSimulate(qc_h, qc_v, circ_list)\n",
    "    edge_scan_h, edge_scan_v = scanEdge(sv_h, sv_v)\n",
    "    Total_scan_h.append(edge_scan_h) #[16, 128, 128]\n",
    "    Total_scan_v.append(edge_scan_v)\n",
    "\n",
    "Total_scan_h = np.asarray(Total_scan_h)   \n",
    "Total_scan_v = np.asarray(Total_scan_v)\n",
    "# Total_scan_h = np.transpose(Total_scan_h, (1,2,0)).reshape(original_img[0], original_img[1])  #[128, 128, 16] -> [512, 512]\n",
    "# Total_scan_v = np.transpose(Total_scan_v, (1,2,0)).reshape(original_img[0], original_img[1])  #[128, 128, 16] -> [512, 512]"
   ]
  },
  {
   "cell_type": "code",
   "execution_count": null,
   "metadata": {},
   "outputs": [],
   "source": [
    "# Classical postprocessing for plotting the output\n",
    "\n",
    "# Defining a lambda function for\n",
    "# thresholding to binary values\n",
    "# thr = 2e-20\n",
    "# threshold = lambda amp: (amp > thr or amp < -thr)\n",
    "\n",
    "# Selecting odd states from the raw statevector and\n",
    "# reshaping column vector of size 64 to an 8x8 matrix\n",
    "# edge_scan_h = np.abs(np.array([1 if threshold(sv_h[2*i+1].real) else 0 for i in range(2**data_qb)])).reshape(image.shape[0], image.shape[1])\n",
    "# edge_scan_v = np.abs(np.array([1 if threshold(sv_v[2*i+1].real) else 0 for i in range(2**data_qb)])).reshape(image.shape[0], image.shape[1]).T\n",
    "\n",
    "\n",
    "# Plotting the Horizontal and vertical scans\n",
    "# plot_image(edge_scan_h, 'Horizontal scan output')\n",
    "# plot_image(edge_scan_v, 'Vertical scan output')\n",
    "\n",
    "# plot_image(edge_scan_h, 'Horizontal scan output')\n",
    "# plot_image(edge_scan_v, 'Vertical scan output')"
   ]
  },
  {
   "cell_type": "code",
   "execution_count": null,
   "metadata": {},
   "outputs": [],
   "source": [
    "# Combining the horizontal and vertical component of the result\n",
    "# edge_scan_sim = edge_scan_h  | edge_scan_v\n",
    "# edge_scan_sim = edge_scan_h*0.5 + edge_scan_v*0.5\n",
    "\n",
    "# # Plotting the original and edge-detected images\n",
    "# plot_image(image, 'Original image')\n",
    "# plot_image(edge_scan_sim, 'Edge Detected image')"
   ]
  }
 ],
 "metadata": {
  "kernelspec": {
   "display_name": "IBMQ",
   "language": "python",
   "name": "python3"
  },
  "language_info": {
   "codemirror_mode": {
    "name": "ipython",
    "version": 3
   },
   "file_extension": ".py",
   "mimetype": "text/x-python",
   "name": "python",
   "nbconvert_exporter": "python",
   "pygments_lexer": "ipython3",
   "version": "3.8.18"
  }
 },
 "nbformat": 4,
 "nbformat_minor": 2
}
